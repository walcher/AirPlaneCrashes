{
 "cells": [
  {
   "cell_type": "markdown",
   "metadata": {},
   "source": [
    "Importando librerias"
   ]
  },
  {
   "cell_type": "code",
   "execution_count": 29,
   "metadata": {
    "collapsed": true
   },
   "outputs": [],
   "source": [
    "import pandas as pd\n",
    "%matplotlib inline\n",
    "import seaborn as sns\n",
    "from matplotlib import pyplot as plt\n",
    "import numpy as np\n",
    "from datetime import datetime\n",
    "sns.set_style(\"darkgrid\")"
   ]
  },
  {
   "cell_type": "markdown",
   "metadata": {},
   "source": [
    "Leer datos"
   ]
  },
  {
   "cell_type": "code",
   "execution_count": 6,
   "metadata": {
    "collapsed": false
   },
   "outputs": [
    {
     "name": "stdout",
     "output_type": "stream",
     "text": [
      "C:\\Software\\Entregables\\AirPlaneCrashes\\AirPlaneCrashes\n"
     ]
    }
   ],
   "source": [
    "%cd C:\\Software\\Entregables\\AirPlaneCrashes\\AirPlaneCrashes"
   ]
  },
  {
   "cell_type": "code",
   "execution_count": 11,
   "metadata": {
    "collapsed": false
   },
   "outputs": [],
   "source": [
    "df = pd.read_csv(\"Airplane_Crashes_and_Fatalities_Since_1908.csv\")"
   ]
  },
  {
   "cell_type": "markdown",
   "metadata": {},
   "source": [
    "Exploración de datos"
   ]
  },
  {
   "cell_type": "code",
   "execution_count": 12,
   "metadata": {
    "collapsed": false,
    "scrolled": true
   },
   "outputs": [
    {
     "data": {
      "text/html": [
       "<div style=\"max-height:1000px;max-width:1500px;overflow:auto;\">\n",
       "<table border=\"1\" class=\"dataframe\">\n",
       "  <thead>\n",
       "    <tr style=\"text-align: right;\">\n",
       "      <th></th>\n",
       "      <th>Date</th>\n",
       "      <th>Time</th>\n",
       "      <th>Location</th>\n",
       "      <th>Operator</th>\n",
       "      <th>Flight #</th>\n",
       "      <th>Route</th>\n",
       "      <th>Type</th>\n",
       "      <th>Registration</th>\n",
       "      <th>cn/In</th>\n",
       "      <th>Aboard</th>\n",
       "      <th>Fatalities</th>\n",
       "      <th>Ground</th>\n",
       "      <th>Summary</th>\n",
       "    </tr>\n",
       "  </thead>\n",
       "  <tbody>\n",
       "    <tr>\n",
       "      <th>0</th>\n",
       "      <td>09/17/1908</td>\n",
       "      <td>17:18</td>\n",
       "      <td>Fort Myer, Virginia</td>\n",
       "      <td>Military - U.S. Army</td>\n",
       "      <td>NaN</td>\n",
       "      <td>Demonstration</td>\n",
       "      <td>Wright Flyer III</td>\n",
       "      <td>NaN</td>\n",
       "      <td>1</td>\n",
       "      <td>2</td>\n",
       "      <td>1</td>\n",
       "      <td>0</td>\n",
       "      <td>During a demonstration flight, a U.S. Army fly...</td>\n",
       "    </tr>\n",
       "    <tr>\n",
       "      <th>1</th>\n",
       "      <td>07/12/1912</td>\n",
       "      <td>06:30</td>\n",
       "      <td>AtlantiCity, New Jersey</td>\n",
       "      <td>Military - U.S. Navy</td>\n",
       "      <td>NaN</td>\n",
       "      <td>Test flight</td>\n",
       "      <td>Dirigible</td>\n",
       "      <td>NaN</td>\n",
       "      <td>NaN</td>\n",
       "      <td>5</td>\n",
       "      <td>5</td>\n",
       "      <td>0</td>\n",
       "      <td>First U.S. dirigible Akron exploded just offsh...</td>\n",
       "    </tr>\n",
       "    <tr>\n",
       "      <th>2</th>\n",
       "      <td>08/06/1913</td>\n",
       "      <td>NaN</td>\n",
       "      <td>Victoria, British Columbia, Canada</td>\n",
       "      <td>Private</td>\n",
       "      <td>-</td>\n",
       "      <td>NaN</td>\n",
       "      <td>Curtiss seaplane</td>\n",
       "      <td>NaN</td>\n",
       "      <td>NaN</td>\n",
       "      <td>1</td>\n",
       "      <td>1</td>\n",
       "      <td>0</td>\n",
       "      <td>The first fatal airplane accident in Canada oc...</td>\n",
       "    </tr>\n",
       "    <tr>\n",
       "      <th>3</th>\n",
       "      <td>09/09/1913</td>\n",
       "      <td>18:30</td>\n",
       "      <td>Over the North Sea</td>\n",
       "      <td>Military - German Navy</td>\n",
       "      <td>NaN</td>\n",
       "      <td>NaN</td>\n",
       "      <td>Zeppelin L-1 (airship)</td>\n",
       "      <td>NaN</td>\n",
       "      <td>NaN</td>\n",
       "      <td>20</td>\n",
       "      <td>14</td>\n",
       "      <td>0</td>\n",
       "      <td>The airship flew into a thunderstorm and encou...</td>\n",
       "    </tr>\n",
       "    <tr>\n",
       "      <th>4</th>\n",
       "      <td>10/17/1913</td>\n",
       "      <td>10:30</td>\n",
       "      <td>Near Johannisthal, Germany</td>\n",
       "      <td>Military - German Navy</td>\n",
       "      <td>NaN</td>\n",
       "      <td>NaN</td>\n",
       "      <td>Zeppelin L-2 (airship)</td>\n",
       "      <td>NaN</td>\n",
       "      <td>NaN</td>\n",
       "      <td>30</td>\n",
       "      <td>30</td>\n",
       "      <td>0</td>\n",
       "      <td>Hydrogen gas which was being vented was sucked...</td>\n",
       "    </tr>\n",
       "  </tbody>\n",
       "</table>\n",
       "</div>"
      ],
      "text/plain": [
       "         Date   Time                            Location  \\\n",
       "0  09/17/1908  17:18                 Fort Myer, Virginia   \n",
       "1  07/12/1912  06:30             AtlantiCity, New Jersey   \n",
       "2  08/06/1913    NaN  Victoria, British Columbia, Canada   \n",
       "3  09/09/1913  18:30                  Over the North Sea   \n",
       "4  10/17/1913  10:30          Near Johannisthal, Germany   \n",
       "\n",
       "                 Operator Flight #          Route                    Type  \\\n",
       "0    Military - U.S. Army      NaN  Demonstration        Wright Flyer III   \n",
       "1    Military - U.S. Navy      NaN    Test flight               Dirigible   \n",
       "2                 Private        -            NaN        Curtiss seaplane   \n",
       "3  Military - German Navy      NaN            NaN  Zeppelin L-1 (airship)   \n",
       "4  Military - German Navy      NaN            NaN  Zeppelin L-2 (airship)   \n",
       "\n",
       "  Registration cn/In  Aboard  Fatalities  Ground  \\\n",
       "0          NaN     1       2           1       0   \n",
       "1          NaN   NaN       5           5       0   \n",
       "2          NaN   NaN       1           1       0   \n",
       "3          NaN   NaN      20          14       0   \n",
       "4          NaN   NaN      30          30       0   \n",
       "\n",
       "                                             Summary  \n",
       "0  During a demonstration flight, a U.S. Army fly...  \n",
       "1  First U.S. dirigible Akron exploded just offsh...  \n",
       "2  The first fatal airplane accident in Canada oc...  \n",
       "3  The airship flew into a thunderstorm and encou...  \n",
       "4  Hydrogen gas which was being vented was sucked...  "
      ]
     },
     "execution_count": 12,
     "metadata": {},
     "output_type": "execute_result"
    }
   ],
   "source": [
    "df.head()"
   ]
  },
  {
   "cell_type": "code",
   "execution_count": 16,
   "metadata": {
    "collapsed": false
   },
   "outputs": [
    {
     "data": {
      "text/plain": [
       "(5268, 13)"
      ]
     },
     "execution_count": 16,
     "metadata": {},
     "output_type": "execute_result"
    }
   ],
   "source": [
    "df.shape"
   ]
  },
  {
   "cell_type": "code",
   "execution_count": 37,
   "metadata": {
    "collapsed": false,
    "scrolled": true
   },
   "outputs": [
    {
     "data": {
      "text/plain": [
       "Date            datetime64[ns]\n",
       "Time            datetime64[ns]\n",
       "Location                object\n",
       "Operator                object\n",
       "Flight #                object\n",
       "Route                   object\n",
       "Type                    object\n",
       "Registration            object\n",
       "cn/In                   object\n",
       "Aboard                 float64\n",
       "Fatalities             float64\n",
       "Ground                 float64\n",
       "Summary                 object\n",
       "dtype: object"
      ]
     },
     "execution_count": 37,
     "metadata": {},
     "output_type": "execute_result"
    }
   ],
   "source": [
    "df.dtypes"
   ]
  },
  {
   "cell_type": "code",
   "execution_count": 35,
   "metadata": {
    "collapsed": false
   },
   "outputs": [],
   "source": [
    "df[\"Date\"] = pd.to_datetime(df.Date, format=\"%m/%d/%Y\")"
   ]
  },
  {
   "cell_type": "code",
   "execution_count": 36,
   "metadata": {
    "collapsed": true
   },
   "outputs": [],
   "source": [
    "df[\"Time\"] = pd.to_datetime(df.Date, format=\"%H:%M\")"
   ]
  },
  {
   "cell_type": "code",
   "execution_count": 21,
   "metadata": {
    "collapsed": false
   },
   "outputs": [
    {
     "data": {
      "text/plain": [
       "(2477,)"
      ]
     },
     "execution_count": 21,
     "metadata": {},
     "output_type": "execute_result"
    }
   ],
   "source": [
    "df[\"Operator\"].unique().shape"
   ]
  },
  {
   "cell_type": "code",
   "execution_count": 22,
   "metadata": {
    "collapsed": false
   },
   "outputs": [
    {
     "data": {
      "text/plain": [
       "(2447,)"
      ]
     },
     "execution_count": 22,
     "metadata": {},
     "output_type": "execute_result"
    }
   ],
   "source": [
    "df[\"Type\"].unique().shape"
   ]
  },
  {
   "cell_type": "code",
   "execution_count": 23,
   "metadata": {
    "collapsed": false
   },
   "outputs": [
    {
     "data": {
      "text/plain": [
       "(3245,)"
      ]
     },
     "execution_count": 23,
     "metadata": {},
     "output_type": "execute_result"
    }
   ],
   "source": [
    "df[\"Route\"].unique().shape"
   ]
  },
  {
   "cell_type": "markdown",
   "metadata": {},
   "source": [
    "Questions\n",
    "\n",
    "Which years have the most crashes? Which one the most Fatalities?\n",
    "Which reason(s) for the crash is(are) the most often one(s)?*\n",
    "Which airline has the most crashes?\n",
    "Is there a correlation between Type of airplane and Airline?*\n",
    "Is there a correlation between route and Airline?\n",
    "Is there a correlation between time and Airline?\n",
    "Is there a correlation between route and time?\n",
    "Is there a correlation between Fatalities and Airline?\n",
    "Is there a correlation between Fatalities and cause of crash?\n",
    "Which routes are the ones where the most crashes happened?d\n",
    "How many chrashes happened abroad?\n",
    "Which cause(s) of the crash has the most Fatalities?\n",
    "Do the number of crashes decrease/increase/are stable during time?\n",
    "Is there a location where a lot of crashes happen?\n",
    "Is the Military more often involved then \"normal\" airlines?\n",
    "Are the most crashes happening at night/day/in the morning?\n",
    "What airplanes crashed into another?\n",
    "How many crashes were caused because of human failure/technical problems?\n",
    "Who are top airplane manufacturers by failure types/crash reasons?"
   ]
  },
  {
   "cell_type": "markdown",
   "metadata": {},
   "source": [
    "Which years have the most crashes?"
   ]
  },
  {
   "cell_type": "code",
   "execution_count": 58,
   "metadata": {
    "collapsed": false
   },
   "outputs": [
    {
     "data": {
      "text/plain": [
       "1972    104\n",
       "1968     96\n",
       "1989     95\n",
       "1967     91\n",
       "1979     89\n",
       "1973     89\n",
       "1991     88\n",
       "1970     87\n",
       "1994     87\n",
       "1976     86\n",
       "1992     86\n",
       "1988     83\n",
       "1974     82\n",
       "1969     82\n",
       "1996     81\n",
       "1977     81\n",
       "1946     80\n",
       "1995     79\n",
       "1999     78\n",
       "1978     77\n",
       "2000     76\n",
       "1947     76\n",
       "1975     75\n",
       "2002     75\n",
       "1985     74\n",
       "1987     74\n",
       "1962     73\n",
       "1990     72\n",
       "1982     70\n",
       "2001     70\n",
       "       ... \n",
       "1929     37\n",
       "1928     37\n",
       "1935     36\n",
       "1931     32\n",
       "1942     32\n",
       "1934     30\n",
       "1932     28\n",
       "1937     27\n",
       "1939     26\n",
       "1933     26\n",
       "1930     24\n",
       "2009     24\n",
       "1941     21\n",
       "1927     21\n",
       "1940     18\n",
       "1920     17\n",
       "1921     13\n",
       "1923     12\n",
       "1926     12\n",
       "1925     11\n",
       "1922     11\n",
       "1924      7\n",
       "1919      6\n",
       "1917      6\n",
       "1916      5\n",
       "1918      4\n",
       "1913      3\n",
       "1915      2\n",
       "1912      1\n",
       "1908      1\n",
       "Name: Date, dtype: int64"
      ]
     },
     "execution_count": 58,
     "metadata": {},
     "output_type": "execute_result"
    }
   ],
   "source": [
    "df.groupby(lambda x: df['Date'][x].year)[\"Date\"].count().order(ascending=False)"
   ]
  },
  {
   "cell_type": "markdown",
   "metadata": {},
   "source": [
    "Which year has the most Fatalities?"
   ]
  },
  {
   "cell_type": "code",
   "execution_count": 59,
   "metadata": {
    "collapsed": false
   },
   "outputs": [
    {
     "data": {
      "text/plain": [
       "1972    2937\n",
       "1985    2670\n",
       "1973    2485\n",
       "1996    2386\n",
       "1974    2318\n",
       "1989    2293\n",
       "1968    2156\n",
       "1977    2138\n",
       "1992    2122\n",
       "1976    2059\n",
       "1970    2049\n",
       "1962    2047\n",
       "1988    2034\n",
       "1979    2011\n",
       "1971    1932\n",
       "1994    1876\n",
       "1991    1839\n",
       "1980    1827\n",
       "1969    1799\n",
       "1967    1789\n",
       "1982    1787\n",
       "1987    1713\n",
       "1997    1673\n",
       "1975    1639\n",
       "1965    1636\n",
       "1983    1611\n",
       "1995    1593\n",
       "1993    1568\n",
       "1960    1565\n",
       "1966    1559\n",
       "        ... \n",
       "1942     363\n",
       "1941     229\n",
       "1936     227\n",
       "1935     226\n",
       "1937     203\n",
       "1933     192\n",
       "1940     169\n",
       "1939     154\n",
       "1930     138\n",
       "1934     126\n",
       "1917     124\n",
       "1928     124\n",
       "1929     119\n",
       "1916     108\n",
       "1931      94\n",
       "1922      80\n",
       "1923      77\n",
       "1932      75\n",
       "1921      68\n",
       "1918      65\n",
       "1927      54\n",
       "1913      45\n",
       "1915      40\n",
       "1925      39\n",
       "1926      30\n",
       "1920      24\n",
       "1924      18\n",
       "1919       5\n",
       "1912       5\n",
       "1908       1\n",
       "Name: Fatalities, dtype: float64"
      ]
     },
     "execution_count": 59,
     "metadata": {},
     "output_type": "execute_result"
    }
   ],
   "source": [
    "df.groupby(lambda x: df['Date'][x].year)[\"Fatalities\"].sum().order(ascending=False)"
   ]
  },
  {
   "cell_type": "markdown",
   "metadata": {},
   "source": [
    "Which airline has the most crashes?"
   ]
  },
  {
   "cell_type": "code",
   "execution_count": 64,
   "metadata": {
    "collapsed": false,
    "scrolled": true
   },
   "outputs": [
    {
     "data": {
      "text/plain": [
       "Operator\n",
       "Aeroflot                                                       179\n",
       "Military - U.S. Air Force                                      176\n",
       "Air France                                                      70\n",
       "Deutsche Lufthansa                                              65\n",
       "United Air Lines                                                44\n",
       "Air Taxi                                                        44\n",
       "China National Aviation Corporation                             44\n",
       "Military - U.S. Army Air Forces                                 43\n",
       "Pan American World Airways                                      41\n",
       "Military - Royal Air Force                                      36\n",
       "US Aerial Mail Service                                          36\n",
       "American Airlines                                               36\n",
       "Military - U.S. Navy                                            36\n",
       "Indian Airlines                                                 34\n",
       "Philippine Air Lines                                            33\n",
       "KLM Royal Dutch Airlines                                        33\n",
       "Private                                                         31\n",
       "Aeropostale                                                     26\n",
       "British Overseas Airways                                        25\n",
       "Northwest Orient Airlines                                       25\n",
       "Eastern Air Lines                                               25\n",
       "AVIANCA                                                         24\n",
       "Sabena                                                          24\n",
       "Military - U.S. Army                                            23\n",
       "Military -Royal Air Force                                       22\n",
       "Imperial Airways                                                22\n",
       "Garuda Indonesia Airlines                                       19\n",
       "Trans Continental and Western Air                               18\n",
       "VASP                                                            18\n",
       "British European Airways                                        18\n",
       "                                                              ... \n",
       "Military - Royal HelleniAir Force                                1\n",
       "Military - Royal Lao Air Force                                   1\n",
       "Military - Royal Lesotho Defence Force                           1\n",
       "Military - Royal Netherlands East Indies Air Force               1\n",
       "Military - Royal Netherlands Naval Air Service                   1\n",
       "Military - Royal Norwegian Air Force                             1\n",
       "Military - Russian                                               1\n",
       "Military - Russian Air Force / Military - Russian Air Force      1\n",
       "Military - Russian Air Force/Uzbekistan Airways                  1\n",
       "Military - Russian Army                                          1\n",
       "Military - Russian Navy                                          1\n",
       "Military - Russian, cargo                                        1\n",
       "Military - Salvadoran Air Force                                  1\n",
       "Military - Salvadorian Air Force                                 1\n",
       "Military - Servicio Aereo Nacional                               1\n",
       "Military - Slovak Air Force                                      1\n",
       "Military - Soviet Navy                                           1\n",
       "Military - Spanish Air Force.                                    1\n",
       "Military - Sudanese Air Force                                    1\n",
       "Military - Taliban Militia                                       1\n",
       "Military - Tentara Nasional Indonesia Navy                       1\n",
       "Military - Thai Army                                             1\n",
       "Military - U. S. Air Force                                       1\n",
       "Military - U. S. Navy                                            1\n",
       "Military - U.S.  Air Force / Military - U.S. Navy                1\n",
       "Military - U.S. Air Force / Military -  U.S. Air Force           1\n",
       "Military - U.S. Air Force / Military -  U.S. Army                1\n",
       "Military - U.S. Air Force / Military U.S. Air Force              1\n",
       "Military - U.S. Air Force/Military - U.S. Air Force              1\n",
       "L & J Company                                                    1\n",
       "Name: Operator, dtype: int64"
      ]
     },
     "execution_count": 64,
     "metadata": {},
     "output_type": "execute_result"
    }
   ],
   "source": [
    "df.groupby(\"Operator\")[\"Operator\"].count().order(ascending=False)"
   ]
  },
  {
   "cell_type": "markdown",
   "metadata": {},
   "source": [
    "Which routes are the ones where the most crashes happened?"
   ]
  },
  {
   "cell_type": "code",
   "execution_count": 65,
   "metadata": {
    "collapsed": false,
    "scrolled": true
   },
   "outputs": [
    {
     "data": {
      "text/plain": [
       "Route\n",
       "Training                                    81\n",
       "Sightseeing                                 29\n",
       "Test flight                                 17\n",
       "Test                                         6\n",
       "Sao Paulo - Rio de Janeiro                   5\n",
       "Sao Paulo - Porto Alegre                     4\n",
       "Saigon - Paris                               4\n",
       "Bogota - Barranquilla                        4\n",
       "Villavicencio - Mitu                         4\n",
       "Rome - Athens                                3\n",
       "Paris - London                               3\n",
       "Villavicencio - Bogota                       3\n",
       "Khartoum - Juba                              3\n",
       "Davao - Manila                               3\n",
       "Bangkok - Hong Kong                          3\n",
       "Positioning                                  3\n",
       "Quito - Cuenca                               3\n",
       "Barranquilla - Bogota                        3\n",
       "Istanbul - Ankara                            3\n",
       "Hue - Da Nang                                3\n",
       "Huambo - Luanda                              3\n",
       "Rome - Cairo                                 3\n",
       "Cleveland - Chicago                          3\n",
       "Guayaquil - Quito                            3\n",
       "Rio de Janeiro - Sao Paulo                   3\n",
       "Lagos - Abuja                                3\n",
       "Guayaquil - Cuenca                           3\n",
       "Buenos Aires - Santiago                      3\n",
       "Burbank - Oakland                            3\n",
       "Santiago de Cuba - Havana                    3\n",
       "                                            ..\n",
       "New York City - Richmond VA                  1\n",
       "New York City - Richmond - Jacksonville      1\n",
       "New York City - Prestwick                    1\n",
       "New York City - Paris                        1\n",
       "New York City - Nantucket                    1\n",
       "Newark - Los Angeles                         1\n",
       "Newark - Miami                               1\n",
       "Newark - Philadelphia                        1\n",
       "Newark, NJ - Hartford, CT                    1\n",
       "Nicosia - Cairo                              1\n",
       "Nicosia - Ankara                             1\n",
       "Nice - Paris                                 1\n",
       "Nice - Nurnberg                              1\n",
       "Nice - Malta                                 1\n",
       "Nice - Florence                              1\n",
       "Niamey - Khartoum                            1\n",
       "Newwark, N.J. - Buffalo, NY                  1\n",
       "Newcastle - Lord Howe Island                 1\n",
       "Newark, NJ - Fort Worth, TX                  1\n",
       "Newark - San Francisco                       1\n",
       "Newark, NJ - Flushing, NY                    1\n",
       "Newark, NJ - Columbus, OH                    1\n",
       "Newark, NJ - Chicago, IL                     1\n",
       "Newark, NJ - Boston, MA                      1\n",
       "Newark, NJ  - Camden, NJ - Washington DC     1\n",
       "Newark, N.J. - Seattle, WA                   1\n",
       "Newark, N.J. - Buffalo, NY                   1\n",
       "Newark - Washington D.C.                     1\n",
       "Newark - Tacoma                              1\n",
       " - Tegucigalpa - Toncontin                   1\n",
       "Name: Route, dtype: int64"
      ]
     },
     "execution_count": 65,
     "metadata": {},
     "output_type": "execute_result"
    }
   ],
   "source": [
    "df.groupby(\"Route\")[\"Route\"].count().order(ascending=False)"
   ]
  },
  {
   "cell_type": "markdown",
   "metadata": {},
   "source": [
    "Is there a location where a lot of crashes happen?"
   ]
  },
  {
   "cell_type": "code",
   "execution_count": 66,
   "metadata": {
    "collapsed": false
   },
   "outputs": [
    {
     "data": {
      "text/plain": [
       "Location\n",
       "Sao Paulo, Brazil                               15\n",
       "Moscow, Russia                                  15\n",
       "Rio de Janeiro, Brazil                          14\n",
       "Bogota, Colombia                                13\n",
       "Manila, Philippines                             13\n",
       "Anchorage, Alaska                               13\n",
       "New York, New York                              12\n",
       "Cairo, Egypt                                    12\n",
       "Chicago, Illinois                               11\n",
       "Near Moscow, Russia                              9\n",
       "Tehran, Iran                                     9\n",
       "AtlantiOcean                                     9\n",
       "Ankara, Turkey                                   8\n",
       "Paris, France                                    8\n",
       "Amsterdam, Netherlands                           8\n",
       "Rome, Italy                                      8\n",
       "Denver, Colorado                                 8\n",
       "Kunming, China                                   7\n",
       "Cleveland, Ohio                                  7\n",
       "Guatemala City, Guatemala                        7\n",
       "Burbank, California                              7\n",
       "Near Medellin, Colombia                          7\n",
       "Bucharest, Romania                               7\n",
       "London, England                                  7\n",
       "North AtlantiOcean                               6\n",
       "Barcelona, Spain                                 6\n",
       "San Juan, Puerto Rico                            6\n",
       "Columbus, Ohio                                   6\n",
       "Near Bogota, Colombia                            6\n",
       "Near La Paz, Bolivia                             6\n",
       "                                                ..\n",
       "Near Shindand, Afghanistan                       1\n",
       "Near Shinile, Ethiopia                           1\n",
       "Near Succoth Glen, Lochgoilhead, Scotland        1\n",
       "Near Stepanakert, Azerbaijan                     1\n",
       "Near Steamboat Springs, Coloado                  1\n",
       "Near St. Etienne de Tinee, France                1\n",
       "Near St. Croix, US Virgin Islands                1\n",
       "Near Srinagar, India                             1\n",
       "Near Souda, Crete                                1\n",
       "Near Sorei, Niger                                1\n",
       "Near Sora, Italy                                 1\n",
       "Near Songnam-si, South Korea                     1\n",
       "Near Solo, Indonesia                             1\n",
       "Near Sokotu, Nigeria                             1\n",
       "Near Sokcho, South Korea                         1\n",
       "Near Sogamosa, Colombia                          1\n",
       "Near Sofia, Bugaria                              1\n",
       "Near SoTrang, South Vietnam                      1\n",
       "Near Snag, Yukon Territory                       1\n",
       "Near Sloan, 10 miles SW of Las Vegas, Nevada     1\n",
       "Near Skopje, Macedonia                           1\n",
       "Near Skalafell, Iceland                          1\n",
       "Near Simara, Nepal                               1\n",
       "Near Silimo, Indonesia                           1\n",
       "Near Silcher, India                              1\n",
       "Near Silchar, India                              1\n",
       "Near Sihanoukville, Cambodia                     1\n",
       "Near Sibyak, Indonesia                           1\n",
       "Near Siagon, Vietnam                             1\n",
       "1,200 miles off Dakar, AtlantiOcean              1\n",
       "Name: Location, dtype: int64"
      ]
     },
     "execution_count": 66,
     "metadata": {},
     "output_type": "execute_result"
    }
   ],
   "source": [
    "df.groupby(\"Location\")[\"Location\"].count().order(ascending=False)"
   ]
  }
 ],
 "metadata": {
  "kernelspec": {
   "display_name": "Python 3",
   "language": "python",
   "name": "python3"
  },
  "language_info": {
   "codemirror_mode": {
    "name": "ipython",
    "version": 3
   },
   "file_extension": ".py",
   "mimetype": "text/x-python",
   "name": "python",
   "nbconvert_exporter": "python",
   "pygments_lexer": "ipython3",
   "version": "3.4.3"
  }
 },
 "nbformat": 4,
 "nbformat_minor": 0
}
